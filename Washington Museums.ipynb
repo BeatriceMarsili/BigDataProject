{
 "cells": [
  {
   "cell_type": "code",
   "execution_count": 1,
   "metadata": {},
   "outputs": [],
   "source": [
    "import jupman"
   ]
  },
  {
   "cell_type": "code",
   "execution_count": 2,
   "metadata": {},
   "outputs": [],
   "source": [
    "import pandas as pd\n",
    "from haversine import haversine, Unit"
   ]
  },
  {
   "cell_type": "code",
   "execution_count": 3,
   "metadata": {},
   "outputs": [],
   "source": [
    "museums = pd.read_csv(\"Museums_in_DC.csv\", sep = \";\", index_col= 0)"
   ]
  },
  {
   "cell_type": "code",
   "execution_count": 4,
   "metadata": {},
   "outputs": [],
   "source": [
    "museums.columns = ['NAME', 'ALT_NAME', 'LABEL', 'MATCHADDRESS', 'XCOORD','YCOORD', 'LONGITUDE', 'LATITUDE', 'ID']"
   ]
  },
  {
   "cell_type": "code",
   "execution_count": 5,
   "metadata": {},
   "outputs": [],
   "source": [
    "museums[\"MATCHADDRESS\"].fillna(\"No Address\", inplace = True)"
   ]
  },
  {
   "cell_type": "code",
   "execution_count": 6,
   "metadata": {},
   "outputs": [],
   "source": [
    "museum_lat = museums[\"LATITUDE\"]"
   ]
  },
  {
   "cell_type": "code",
   "execution_count": 7,
   "metadata": {},
   "outputs": [],
   "source": [
    "museum_long = museums[\"LONGITUDE\"]"
   ]
  },
  {
   "cell_type": "code",
   "execution_count": 8,
   "metadata": {},
   "outputs": [],
   "source": [
    "bikes = pd.read_csv(\"results-20200501-204147.csv\")"
   ]
  },
  {
   "cell_type": "code",
   "execution_count": 9,
   "metadata": {
    "scrolled": true
   },
   "outputs": [],
   "source": [
    "bikes_loc = bikes[['lat','lon', 'name', 'station_id']]\n",
    "bikes_loc =bikes_loc.set_index([pd.Index(range(1, bikes_loc.shape[0]+1))])"
   ]
  },
  {
   "cell_type": "code",
   "execution_count": 10,
   "metadata": {
    "scrolled": false
   },
   "outputs": [],
   "source": [
    "museum_tup=[]\n",
    "for i in range(1, museums.shape[0]+1):\n",
    "    museum_coord = (museums[\"LONGITUDE\"][i] , museums[\"LATITUDE\"][i])\n",
    "    museum_tup.append(museum_coord)"
   ]
  },
  {
   "cell_type": "code",
   "execution_count": 11,
   "metadata": {},
   "outputs": [],
   "source": [
    "bikes_tup=[]\n",
    "for i in range(1, bikes_loc.shape[0]+1):\n",
    "    bikes_coord = (bikes_loc[\"lon\"][i] , bikes_loc[\"lat\"][i])\n",
    "    bikes_tup.append(bikes_coord)"
   ]
  },
  {
   "cell_type": "code",
   "execution_count": 12,
   "metadata": {
    "scrolled": true
   },
   "outputs": [],
   "source": [
    "minimum= []\n",
    "for mus in museum_tup:\n",
    "    current=None\n",
    "    for bik in bikes_tup:\n",
    "        hav = haversine(mus, bik)\n",
    "        if current == None or hav < current: \n",
    "            current = hav\n",
    "            top_stat = bik\n",
    "    minimum.append(top_stat)"
   ]
  },
  {
   "cell_type": "code",
   "execution_count": 13,
   "metadata": {
    "scrolled": true
   },
   "outputs": [],
   "source": [
    "distances_meters=[]\n",
    "for i in range(len(minimum)):\n",
    "    dist = round(haversine(minimum[i], museum_tup[i], unit=Unit.METERS), ndigits=1)\n",
    "    distances_meters.append(dist)"
   ]
  },
  {
   "cell_type": "code",
   "execution_count": 14,
   "metadata": {},
   "outputs": [],
   "source": [
    "distances_miles=[]\n",
    "for i in range(len(minimum)):\n",
    "    dist = round(haversine(minimum[i], museum_tup[i], unit=Unit.MILES), ndigits=3)\n",
    "    distances_miles.append(dist)"
   ]
  },
  {
   "cell_type": "code",
   "execution_count": 15,
   "metadata": {},
   "outputs": [],
   "source": [
    "museum = museums[\"NAME\"]"
   ]
  },
  {
   "cell_type": "code",
   "execution_count": 16,
   "metadata": {},
   "outputs": [],
   "source": [
    "df = pd.DataFrame(museum)"
   ]
  },
  {
   "cell_type": "code",
   "execution_count": 17,
   "metadata": {
    "scrolled": true
   },
   "outputs": [],
   "source": [
    "df[\"Museum_Longitude\"] = museum_long"
   ]
  },
  {
   "cell_type": "code",
   "execution_count": 18,
   "metadata": {},
   "outputs": [],
   "source": [
    "df[\"Museum_Latitude\"] = museum_lat"
   ]
  },
  {
   "cell_type": "code",
   "execution_count": 21,
   "metadata": {},
   "outputs": [],
   "source": [
    "df[\"Station_Longitude\"] = bikes[\"lon\"]"
   ]
  },
  {
   "cell_type": "code",
   "execution_count": 22,
   "metadata": {},
   "outputs": [],
   "source": [
    "df[\"Station_Latitude\"] = bikes[\"lat\"]"
   ]
  },
  {
   "cell_type": "code",
   "execution_count": 23,
   "metadata": {},
   "outputs": [],
   "source": [
    "df[\"Distance_Meters\"] = distances_meters"
   ]
  },
  {
   "cell_type": "code",
   "execution_count": 24,
   "metadata": {},
   "outputs": [],
   "source": [
    "df[\"Distance_Miles\"] = distances_miles"
   ]
  },
  {
   "cell_type": "code",
   "execution_count": 25,
   "metadata": {},
   "outputs": [
    {
     "data": {
      "text/html": [
       "<div>\n",
       "<style scoped>\n",
       "    .dataframe tbody tr th:only-of-type {\n",
       "        vertical-align: middle;\n",
       "    }\n",
       "\n",
       "    .dataframe tbody tr th {\n",
       "        vertical-align: top;\n",
       "    }\n",
       "\n",
       "    .dataframe thead th {\n",
       "        text-align: right;\n",
       "    }\n",
       "</style>\n",
       "<table border=\"1\" class=\"dataframe\">\n",
       "  <thead>\n",
       "    <tr style=\"text-align: right;\">\n",
       "      <th></th>\n",
       "      <th>NAME</th>\n",
       "      <th>Museum_Longitude</th>\n",
       "      <th>Museum_Latitude</th>\n",
       "      <th>Station_Longitude</th>\n",
       "      <th>Station_Latitude</th>\n",
       "      <th>Distance_Meters</th>\n",
       "      <th>Distance_Miles</th>\n",
       "    </tr>\n",
       "    <tr>\n",
       "      <th>OBJECTID</th>\n",
       "      <th></th>\n",
       "      <th></th>\n",
       "      <th></th>\n",
       "      <th></th>\n",
       "      <th></th>\n",
       "      <th></th>\n",
       "      <th></th>\n",
       "    </tr>\n",
       "  </thead>\n",
       "  <tbody>\n",
       "    <tr>\n",
       "      <th>1</th>\n",
       "      <td>EXHIBITION HALL AT THE U.S. CAPITOL VISITOR CE...</td>\n",
       "      <td>-77.009036</td>\n",
       "      <td>38.889794</td>\n",
       "      <td>-77.039511</td>\n",
       "      <td>38.865029</td>\n",
       "      <td>213.4</td>\n",
       "      <td>0.133</td>\n",
       "    </tr>\n",
       "    <tr>\n",
       "      <th>2</th>\n",
       "      <td>THE WILDERNESS SOCIETY - ANSEL ADAMS COLLECTION</td>\n",
       "      <td>-77.037353</td>\n",
       "      <td>38.905854</td>\n",
       "      <td>-77.038325</td>\n",
       "      <td>38.888097</td>\n",
       "      <td>125.5</td>\n",
       "      <td>0.078</td>\n",
       "    </tr>\n",
       "    <tr>\n",
       "      <th>3</th>\n",
       "      <td>SPAGNUOLO ART GALLERY</td>\n",
       "      <td>-77.070115</td>\n",
       "      <td>38.906311</td>\n",
       "      <td>-77.051514</td>\n",
       "      <td>38.848466</td>\n",
       "      <td>174.6</td>\n",
       "      <td>0.108</td>\n",
       "    </tr>\n",
       "    <tr>\n",
       "      <th>4</th>\n",
       "      <td>NATIONAL ZOOLOGICAL PARK</td>\n",
       "      <td>-77.054429</td>\n",
       "      <td>38.930611</td>\n",
       "      <td>-77.080950</td>\n",
       "      <td>38.890540</td>\n",
       "      <td>130.4</td>\n",
       "      <td>0.081</td>\n",
       "    </tr>\n",
       "    <tr>\n",
       "      <th>5</th>\n",
       "      <td>UNITED STATES BOTANIC GARDEN</td>\n",
       "      <td>-77.012901</td>\n",
       "      <td>38.888248</td>\n",
       "      <td>-77.227417</td>\n",
       "      <td>38.923083</td>\n",
       "      <td>101.6</td>\n",
       "      <td>0.063</td>\n",
       "    </tr>\n",
       "  </tbody>\n",
       "</table>\n",
       "</div>"
      ],
      "text/plain": [
       "                                                       NAME  Museum_Longitude  \\\n",
       "OBJECTID                                                                        \n",
       "1         EXHIBITION HALL AT THE U.S. CAPITOL VISITOR CE...        -77.009036   \n",
       "2           THE WILDERNESS SOCIETY - ANSEL ADAMS COLLECTION        -77.037353   \n",
       "3                                     SPAGNUOLO ART GALLERY        -77.070115   \n",
       "4                                  NATIONAL ZOOLOGICAL PARK        -77.054429   \n",
       "5                              UNITED STATES BOTANIC GARDEN        -77.012901   \n",
       "\n",
       "          Museum_Latitude  Station_Longitude  Station_Latitude  \\\n",
       "OBJECTID                                                         \n",
       "1               38.889794         -77.039511         38.865029   \n",
       "2               38.905854         -77.038325         38.888097   \n",
       "3               38.906311         -77.051514         38.848466   \n",
       "4               38.930611         -77.080950         38.890540   \n",
       "5               38.888248         -77.227417         38.923083   \n",
       "\n",
       "          Distance_Meters  Distance_Miles  \n",
       "OBJECTID                                   \n",
       "1                   213.4           0.133  \n",
       "2                   125.5           0.078  \n",
       "3                   174.6           0.108  \n",
       "4                   130.4           0.081  \n",
       "5                   101.6           0.063  "
      ]
     },
     "execution_count": 25,
     "metadata": {},
     "output_type": "execute_result"
    }
   ],
   "source": [
    "df.head()"
   ]
  },
  {
   "cell_type": "code",
   "execution_count": 26,
   "metadata": {},
   "outputs": [],
   "source": [
    "df.to_csv('Museum_stations_distance.csv')"
   ]
  }
 ],
 "metadata": {
  "kernelspec": {
   "display_name": "Python 3",
   "language": "python",
   "name": "python3"
  },
  "language_info": {
   "codemirror_mode": {
    "name": "ipython",
    "version": 3
   },
   "file_extension": ".py",
   "mimetype": "text/x-python",
   "name": "python",
   "nbconvert_exporter": "python",
   "pygments_lexer": "ipython3",
   "version": "3.7.6"
  }
 },
 "nbformat": 4,
 "nbformat_minor": 4
}
