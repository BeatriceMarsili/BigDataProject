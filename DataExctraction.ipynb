{
 "cells": [
  {
   "cell_type": "code",
   "execution_count": 81,
   "metadata": {},
   "outputs": [],
   "source": [
    "import json\n",
    "import pandas as pd\n",
    "import urllib.request\n",
    "from datetime import datetime, timezone\n",
    "import pytz"
   ]
  },
  {
   "cell_type": "code",
   "execution_count": 82,
   "metadata": {
    "scrolled": true
   },
   "outputs": [],
   "source": [
    "def extract_station():\n",
    "    \"Extracts information regarding stations and saves to a csv and a json file\"\n",
    "    url_station = \"https://gbfs.capitalbikeshare.com/gbfs/es/station_information.json\"\n",
    "    response_station = urllib.request.urlopen(url_station)\n",
    "    data_station = json.loads(response_station.read())\n",
    "    dic_station = {}\n",
    "    i=0\n",
    "    for el in data_station[\"data\"][\"stations\"]:\n",
    "        dic_station[i]=el\n",
    "        i+=1\n",
    "    df_station = pd.DataFrame.from_dict(dic_station, orient = 'index')\n",
    "    station = pd.concat([df_station[\"station_id\"],\n",
    "                     df_station[\"name\"],\n",
    "                     df_station[\"rental_methods\"],\n",
    "                     df_station[\"lat\"],\n",
    "                     df_station[\"lon\"], \n",
    "                     df_station[\"capacity\"], \n",
    "                     df_station[\"region_id\"],\n",
    "                     df_station[\"station_type\"]], axis=1)\n",
    "    station.to_csv(\"Station_information.csv\")\n",
    "    station.to_json(\"Station_information.json\", orient=\"index\")\n",
    "    return \"Produced a csv and a json file with information regarding stations.\""
   ]
  },
  {
   "cell_type": "code",
   "execution_count": 83,
   "metadata": {},
   "outputs": [],
   "source": [
    "def extract_status():\n",
    "    \"\"\"Extracts information regarding station status,\n",
    "    converts timestamp to human readable date and saves results in a json and a csv file\"\"\"\n",
    "    url_status = \"https://gbfs.capitalbikeshare.com/gbfs/es/station_status.json\"\n",
    "    response_status = urllib.request.urlopen(url_status)\n",
    "    data_status = json.loads(response_status.read())\n",
    "    dic_status = {}\n",
    "    i=0\n",
    "    for el in data_status[\"data\"][\"stations\"]:\n",
    "        dic_status[i]=el\n",
    "        i+=1\n",
    "    df_status = pd.DataFrame.from_dict(dic_status, orient = 'index')  \n",
    "    time_zone = pytz.timezone(\"America/Atikokan\")\n",
    "    timestamp_status = data_status[\"last_updated\"]\n",
    "    last_updated_status = datetime.fromtimestamp(timestamp_status).astimezone(time_zone).strftime('%Y-%m-%d %H:%M:%S')\n",
    "    df_status[\"last_updated_date\"] = datetime.fromtimestamp(timestamp_status).astimezone(time_zone).strftime(\"%Y-%m-%d %H:%M:%S\")\n",
    "    status = pd.concat([df_status[\"station_id\"],\n",
    "                    df_status[\"num_bikes_available\"],\n",
    "                    df_status[\"num_docks_available\"], \n",
    "                    df_status[\"num_ebikes_available\"], \n",
    "                    df_status[\"num_bikes_disabled\"],\n",
    "                    df_status[\"num_docks_disabled\"], \n",
    "                    df_status[\"last_reported\"],\n",
    "                    df_status[\"is_renting\"], \n",
    "                    df_status[\"is_returning\"],\n",
    "                    df_status[\"last_updated_date\"]], axis=1)\n",
    "    status.to_csv(\"Station_status.csv\")\n",
    "    status.to_json(\"Station_status.json\", orient=\"index\")\n",
    "    return \"Produced a csv and a json file with stations and their current status.\""
   ]
  },
  {
   "cell_type": "code",
   "execution_count": 84,
   "metadata": {},
   "outputs": [],
   "source": [
    "def join_info():\n",
    "    \"Joins data regarding informations on stations with data regarding their status. Produces a csv and a json.\"\n",
    "    extract_station()\n",
    "    extract_status()\n",
    "    status=pd.read_csv(\"Station_status.csv\")\n",
    "    status.drop(columns=[\"Unnamed: 0\"])\n",
    "    stations=pd.read_csv(\"Station_information.csv\")\n",
    "    stations.drop(columns=[\"Unnamed: 0\"])\n",
    "    station_status = status.set_index(\"station_id\").join(stations.set_index(\"station_id\"), on=['station_id'], how='right' , lsuffix='_left', rsuffix='_right')\n",
    "    station_status = station_status.rename(columns={'name': 'Station_Name'})\n",
    "    station_status[\"num_bikes_available\"] = station_status[\"num_bikes_available\"] - station_status[\"num_bikes_disabled\"]\n",
    "    station_status[\"num_docks_available\"] = station_status[\"num_docks_available\"] - station_status[\"num_docks_disabled\"]\n",
    "    station_status = station_status.drop(['num_bikes_disabled', 'num_docks_disabled'], axis=1)\n",
    "    quick_look = pd.concat([station_status[\"Station_Name\"],\n",
    "                             station_status[\"num_bikes_available\"],\n",
    "                             station_status[\"num_docks_available\"],\n",
    "                             station_status[\"num_ebikes_available\"],\n",
    "                             station_status[\"capacity\"],\n",
    "                             station_status[\"lat\"],\n",
    "                             station_status[\"lon\"],\n",
    "                             station_status[\"last_updated_date\"]], axis=1)\n",
    "    quick_look = quick_look.rename(columns={'lat': 'station_lat',\n",
    "                                         'lon': 'station_lon'})\n",
    "    quick_look.to_csv(\"Stat_complete_info.csv\")\n",
    "    quick_look.to_json(\"Stat_complete_info.json\", orient=\"index\")\n",
    "    return \"Produced a csv and a json file with joined information abouth stations and their status\""
   ]
  },
  {
   "cell_type": "code",
   "execution_count": 85,
   "metadata": {},
   "outputs": [
    {
     "data": {
      "text/plain": [
       "'Produced a csv and a json file with information regarding stations.'"
      ]
     },
     "execution_count": 85,
     "metadata": {},
     "output_type": "execute_result"
    }
   ],
   "source": [
    "extract_station()"
   ]
  },
  {
   "cell_type": "code",
   "execution_count": 86,
   "metadata": {},
   "outputs": [
    {
     "data": {
      "text/plain": [
       "'Produced a csv and a json file with stations and their current status.'"
      ]
     },
     "execution_count": 86,
     "metadata": {},
     "output_type": "execute_result"
    }
   ],
   "source": [
    "extract_status()"
   ]
  },
  {
   "cell_type": "code",
   "execution_count": 87,
   "metadata": {},
   "outputs": [
    {
     "data": {
      "text/plain": [
       "'Produced a csv and a json file with joined information abouth stations and their status'"
      ]
     },
     "execution_count": 87,
     "metadata": {},
     "output_type": "execute_result"
    }
   ],
   "source": [
    "join_info()"
   ]
  },
  {
   "cell_type": "code",
   "execution_count": 88,
   "metadata": {},
   "outputs": [
    {
     "name": "stdout",
     "output_type": "stream",
     "text": [
      "(84, 44) (60, 10)\n"
     ]
    }
   ],
   "source": [
    "#df = pd.read_csv(\"bq-results-20200629-162839-y9zreuyj5fvc.csv\")\n",
    "mus = pd.read_csv(\"museums_info.csv\")\n",
    "closed = list(mus.loc[(mus[\"museums/permanently_closed\"] == True), \"museums/name\"])\n",
    "\n",
    "df= pd.read_csv(\"Museums_in_DC.csv\", sep=\";\")\n",
    "df = df[-df.NAME.isin(closed)]\n",
    "df.to_csv(\"Musuems_in_DC_filt.csv\")\n",
    "print(mus.shape, df.shape)"
   ]
  },
  {
   "cell_type": "code",
   "execution_count": 89,
   "metadata": {},
   "outputs": [],
   "source": [
    "mus = pd.read_csv(\"mus_close_stat.csv\")\n",
    "final = mus.groupby([\"museum\"]).head(5)\n",
    "final.reset_index(drop=True, inplace=True)\n",
    "final.to_csv(\"mus_close_stat_filt.csv\")"
   ]
  },
  {
   "cell_type": "code",
   "execution_count": 90,
   "metadata": {},
   "outputs": [
    {
     "data": {
      "text/html": [
       "<div>\n",
       "<style scoped>\n",
       "    .dataframe tbody tr th:only-of-type {\n",
       "        vertical-align: middle;\n",
       "    }\n",
       "\n",
       "    .dataframe tbody tr th {\n",
       "        vertical-align: top;\n",
       "    }\n",
       "\n",
       "    .dataframe thead th {\n",
       "        text-align: right;\n",
       "    }\n",
       "</style>\n",
       "<table border=\"1\" class=\"dataframe\">\n",
       "  <thead>\n",
       "    <tr style=\"text-align: right;\">\n",
       "      <th></th>\n",
       "      <th>museum</th>\n",
       "      <th>address</th>\n",
       "      <th>longitude</th>\n",
       "      <th>latitude</th>\n",
       "      <th>ID</th>\n",
       "      <th>mus_point</th>\n",
       "      <th>station_id</th>\n",
       "      <th>name</th>\n",
       "      <th>region_id</th>\n",
       "      <th>capacity</th>\n",
       "      <th>lat</th>\n",
       "      <th>lon</th>\n",
       "      <th>station_status___1_</th>\n",
       "      <th>stat_point</th>\n",
       "      <th>closest</th>\n",
       "      <th>approx_distance_miles</th>\n",
       "    </tr>\n",
       "  </thead>\n",
       "  <tbody>\n",
       "    <tr>\n",
       "      <th>0</th>\n",
       "      <td>Ford's Theatre</td>\n",
       "      <td>511 10TH STREET NW</td>\n",
       "      <td>-77.025797</td>\n",
       "      <td>38.896583</td>\n",
       "      <td>239829</td>\n",
       "      <td>POINT(-77.02579655 38.89658294)</td>\n",
       "      <td>199</td>\n",
       "      <td>10th &amp; E St NW</td>\n",
       "      <td>42.0</td>\n",
       "      <td>15</td>\n",
       "      <td>38.895914</td>\n",
       "      <td>-77.026064</td>\n",
       "      <td>active</td>\n",
       "      <td>POINT(-77.026064 38.895914)</td>\n",
       "      <td>True</td>\n",
       "      <td>0.048416</td>\n",
       "    </tr>\n",
       "    <tr>\n",
       "      <th>1</th>\n",
       "      <td>Petersen House</td>\n",
       "      <td>516 10TH STREET NW</td>\n",
       "      <td>-77.026199</td>\n",
       "      <td>38.896768</td>\n",
       "      <td>239374</td>\n",
       "      <td>POINT(-77.02619882 38.89676807)</td>\n",
       "      <td>199</td>\n",
       "      <td>10th &amp; E St NW</td>\n",
       "      <td>42.0</td>\n",
       "      <td>15</td>\n",
       "      <td>38.895914</td>\n",
       "      <td>-77.026064</td>\n",
       "      <td>active</td>\n",
       "      <td>POINT(-77.026064 38.895914)</td>\n",
       "      <td>True</td>\n",
       "      <td>0.059467</td>\n",
       "    </tr>\n",
       "    <tr>\n",
       "      <th>2</th>\n",
       "      <td>Naval Heritage Center</td>\n",
       "      <td>701 PENNSYLVANIA AVENUE NW</td>\n",
       "      <td>-77.022380</td>\n",
       "      <td>38.894438</td>\n",
       "      <td>279889</td>\n",
       "      <td>POINT(-77.02238001 38.89443849)</td>\n",
       "      <td>199</td>\n",
       "      <td>10th &amp; E St NW</td>\n",
       "      <td>42.0</td>\n",
       "      <td>15</td>\n",
       "      <td>38.895914</td>\n",
       "      <td>-77.026064</td>\n",
       "      <td>active</td>\n",
       "      <td>POINT(-77.026064 38.895914)</td>\n",
       "      <td>True</td>\n",
       "      <td>0.222848</td>\n",
       "    </tr>\n",
       "    <tr>\n",
       "      <th>3</th>\n",
       "      <td>Smithsonian American Art Museum</td>\n",
       "      <td>NaN</td>\n",
       "      <td>-77.022972</td>\n",
       "      <td>38.898181</td>\n",
       "      <td>294248</td>\n",
       "      <td>POINT(-77.022972 38.898181)</td>\n",
       "      <td>199</td>\n",
       "      <td>10th &amp; E St NW</td>\n",
       "      <td>42.0</td>\n",
       "      <td>15</td>\n",
       "      <td>38.895914</td>\n",
       "      <td>-77.026064</td>\n",
       "      <td>active</td>\n",
       "      <td>POINT(-77.026064 38.895914)</td>\n",
       "      <td>True</td>\n",
       "      <td>0.228477</td>\n",
       "    </tr>\n",
       "    <tr>\n",
       "      <th>4</th>\n",
       "      <td>National Portrait Gallery</td>\n",
       "      <td>NaN</td>\n",
       "      <td>-77.022972</td>\n",
       "      <td>38.898181</td>\n",
       "      <td>294248</td>\n",
       "      <td>POINT(-77.022972 38.898181)</td>\n",
       "      <td>199</td>\n",
       "      <td>10th &amp; E St NW</td>\n",
       "      <td>42.0</td>\n",
       "      <td>15</td>\n",
       "      <td>38.895914</td>\n",
       "      <td>-77.026064</td>\n",
       "      <td>active</td>\n",
       "      <td>POINT(-77.026064 38.895914)</td>\n",
       "      <td>True</td>\n",
       "      <td>0.228477</td>\n",
       "    </tr>\n",
       "  </tbody>\n",
       "</table>\n",
       "</div>"
      ],
      "text/plain": [
       "                            museum                     address  longitude  \\\n",
       "0                   Ford's Theatre          511 10TH STREET NW -77.025797   \n",
       "1                   Petersen House          516 10TH STREET NW -77.026199   \n",
       "2            Naval Heritage Center  701 PENNSYLVANIA AVENUE NW -77.022380   \n",
       "3  Smithsonian American Art Museum                         NaN -77.022972   \n",
       "4        National Portrait Gallery                         NaN -77.022972   \n",
       "\n",
       "    latitude      ID                        mus_point  station_id  \\\n",
       "0  38.896583  239829  POINT(-77.02579655 38.89658294)         199   \n",
       "1  38.896768  239374  POINT(-77.02619882 38.89676807)         199   \n",
       "2  38.894438  279889  POINT(-77.02238001 38.89443849)         199   \n",
       "3  38.898181  294248      POINT(-77.022972 38.898181)         199   \n",
       "4  38.898181  294248      POINT(-77.022972 38.898181)         199   \n",
       "\n",
       "             name  region_id  capacity        lat        lon  \\\n",
       "0  10th & E St NW       42.0        15  38.895914 -77.026064   \n",
       "1  10th & E St NW       42.0        15  38.895914 -77.026064   \n",
       "2  10th & E St NW       42.0        15  38.895914 -77.026064   \n",
       "3  10th & E St NW       42.0        15  38.895914 -77.026064   \n",
       "4  10th & E St NW       42.0        15  38.895914 -77.026064   \n",
       "\n",
       "  station_status___1_                   stat_point  closest  \\\n",
       "0              active  POINT(-77.026064 38.895914)     True   \n",
       "1              active  POINT(-77.026064 38.895914)     True   \n",
       "2              active  POINT(-77.026064 38.895914)     True   \n",
       "3              active  POINT(-77.026064 38.895914)     True   \n",
       "4              active  POINT(-77.026064 38.895914)     True   \n",
       "\n",
       "   approx_distance_miles  \n",
       "0               0.048416  \n",
       "1               0.059467  \n",
       "2               0.222848  \n",
       "3               0.228477  \n",
       "4               0.228477  "
      ]
     },
     "execution_count": 90,
     "metadata": {},
     "output_type": "execute_result"
    }
   ],
   "source": [
    "stat = pd.read_csv(\"stat_close_mus.csv\")\n",
    "final = stat.groupby([\"name\"]).head(5)\n",
    "final.reset_index(drop=True, inplace=True)\n",
    "final.head()\n",
    "#final.to_csv(\"stat_close_mus_filt.csv\")"
   ]
  },
  {
   "cell_type": "code",
   "execution_count": null,
   "metadata": {},
   "outputs": [],
   "source": []
  }
 ],
 "metadata": {
  "kernelspec": {
   "display_name": "Python 3",
   "language": "python",
   "name": "python3"
  },
  "language_info": {
   "codemirror_mode": {
    "name": "ipython",
    "version": 3
   },
   "file_extension": ".py",
   "mimetype": "text/x-python",
   "name": "python",
   "nbconvert_exporter": "python",
   "pygments_lexer": "ipython3",
   "version": "3.7.7"
  }
 },
 "nbformat": 4,
 "nbformat_minor": 4
}
